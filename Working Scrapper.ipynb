{
 "cells": [
  {
   "cell_type": "code",
   "execution_count": 4,
   "id": "66547e4a",
   "metadata": {},
   "outputs": [
    {
     "name": "stderr",
     "output_type": "stream",
     "text": [
      "\n",
      "\n",
      "====== WebDriver manager ======\n"
     ]
    },
    {
     "name": "stdout",
     "output_type": "stream",
     "text": [
      "cats\n"
     ]
    },
    {
     "name": "stderr",
     "output_type": "stream",
     "text": [
      "Current google-chrome version is 100.0.4896\n",
      "Get LATEST chromedriver version for 100.0.4896 google-chrome\n",
      "Driver [C:\\Users\\Fabrice HAFASHIMANA\\.wdm\\drivers\\chromedriver\\win32\\100.0.4896.60\\chromedriver.exe] found in cache\n",
      "C:\\Users\\Fabrice HAFASHIMANA\\AppData\\Local\\Temp\\ipykernel_22400\\1674341587.py:106: DeprecationWarning: executable_path has been deprecated, please pass in a Service object\n",
      "  with webdriver.Chrome(ChromeDriverManager().install()) as wd:\n",
      "C:\\Users\\Fabrice HAFASHIMANA\\AppData\\Local\\Temp\\ipykernel_22400\\1674341587.py:33: DeprecationWarning: find_elements_by_css_selector is deprecated. Please use find_elements(by=By.CSS_SELECTOR, value=css_selector) instead\n",
      "  thumbnail_results = wd.find_elements_by_css_selector(\"img.Q4LuWd\")\n"
     ]
    },
    {
     "name": "stdout",
     "output_type": "stream",
     "text": [
      "Found: 100 search results. Extracting links from 0:100\n"
     ]
    },
    {
     "name": "stderr",
     "output_type": "stream",
     "text": [
      "C:\\Users\\Fabrice HAFASHIMANA\\AppData\\Local\\Temp\\ipykernel_22400\\1674341587.py:48: DeprecationWarning: find_elements_by_css_selector is deprecated. Please use find_elements(by=By.CSS_SELECTOR, value=css_selector) instead\n",
      "  actual_images = wd.find_elements_by_css_selector('img.n3VNCb')\n"
     ]
    },
    {
     "name": "stdout",
     "output_type": "stream",
     "text": [
      "Found: 8 image links, done!\n",
      "SUCCESS - saved https://encrypted-tbn0.gstatic.com/images?q=tbn:ANd9GcQqx-4fXL2-OsZmHBsAHze0DB6bwfemJQrNDg&usqp=CAU - as ./images\\cats\n",
      "SUCCESS - saved https://encrypted-tbn0.gstatic.com/images?q=tbn:ANd9GcShE_v5lKYqUCYkzit3AHRyJHtAKp0gV09Lrg&usqp=CAU - as ./images\\cats\n",
      "SUCCESS - saved https://encrypted-tbn0.gstatic.com/images?q=tbn:ANd9GcTQb70TYza-sir0PIzzwMjif3QrgnlOr38F9w&usqp=CAU - as ./images\\cats\n",
      "SUCCESS - saved https://encrypted-tbn0.gstatic.com/images?q=tbn:ANd9GcQxaO16b2lvjEBOB0EU3GJJsBi2fyc2GM8YFg&usqp=CAU - as ./images\\cats\n",
      "SUCCESS - saved https://i.guim.co.uk/img/media/e01ce2efabf7d6a8ba6f1f455434596de0b0b960/0_292_2394_1436/master/2394.jpg?width=465&quality=45&auto=format&fit=max&dpr=2&s=0b1c0b7659772ca4114ef5f4e20a1ddb - as ./images\\cats\n",
      "SUCCESS - saved https://i.guim.co.uk/img/media/c5e73ed8e8325d7e79babf8f1ebbd9adc0d95409/2_5_1754_1053/master/1754.jpg?width=465&quality=45&auto=format&fit=max&dpr=2&s=065f279099ded1062688e357b155dc29 - as ./images\\cats\n",
      "SUCCESS - saved https://encrypted-tbn0.gstatic.com/images?q=tbn:ANd9GcTkSjqULTzrywh3G-nZ92XHwtyI4-P8y8AkSA&usqp=CAU - as ./images\\cats\n"
     ]
    },
    {
     "name": "stderr",
     "output_type": "stream",
     "text": [
      "\n",
      "\n",
      "====== WebDriver manager ======\n"
     ]
    },
    {
     "name": "stdout",
     "output_type": "stream",
     "text": [
      "SUCCESS - saved https://encrypted-tbn0.gstatic.com/images?q=tbn:ANd9GcSzvKwk1CVZpdpf9lKOac7FeZVrKIAw2QIc3g&usqp=CAU - as ./images\\cats\n",
      "eucalyptus\n"
     ]
    },
    {
     "name": "stderr",
     "output_type": "stream",
     "text": [
      "Current google-chrome version is 100.0.4896\n",
      "Get LATEST chromedriver version for 100.0.4896 google-chrome\n",
      "Driver [C:\\Users\\Fabrice HAFASHIMANA\\.wdm\\drivers\\chromedriver\\win32\\100.0.4896.60\\chromedriver.exe] found in cache\n"
     ]
    },
    {
     "name": "stdout",
     "output_type": "stream",
     "text": [
      "Found: 100 search results. Extracting links from 0:100\n",
      "Found: 8 image links, done!\n",
      "SUCCESS - saved https://media.istockphoto.com/vectors/watercolor-vector-wreath-with-green-eucalyptus-leaves-and-branches-vector-id878121918?k=20&m=878121918&s=612x612&w=0&h=qLmuqyuJxfksWPdERBU5LhDLxb8exeUYoi1G0QoRXLI= - as ./images\\eucalyptus\n",
      "SUCCESS - saved https://desenio.co.uk/bilder/artiklar/zoom/3393_2.jpg?imgwidth=435&qt=Eucalyptus%20branches - as ./images\\eucalyptus\n",
      "SUCCESS - saved https://encrypted-tbn0.gstatic.com/images?q=tbn:ANd9GcRnEMqmOd7Ds_gzeP-ri67m028veIg1bzOlDQ&usqp=CAU - as ./images\\eucalyptus\n",
      "SUCCESS - saved https://encrypted-tbn0.gstatic.com/images?q=tbn:ANd9GcTGhAnJljSrHhUnhXl6dAF19vnh-nPsgtMZIQ&usqp=CAU - as ./images\\eucalyptus\n",
      "SUCCESS - saved https://encrypted-tbn0.gstatic.com/images?q=tbn:ANd9GcTThXsbJjDxn4TjdoOlaYOu21grtPZ3nB42ag&usqp=CAU - as ./images\\eucalyptus\n",
      "SUCCESS - saved https://encrypted-tbn0.gstatic.com/images?q=tbn:ANd9GcSp-6SBTc6dXu628EZOSPX94CnNj1BTfXoaOQ&usqp=CAU - as ./images\\eucalyptus\n",
      "SUCCESS - saved https://encrypted-tbn0.gstatic.com/images?q=tbn:ANd9GcRwCk2zpvHTsPAV-cKHRys0sVmMNBrvtcjxyQ&usqp=CAU - as ./images\\eucalyptus\n"
     ]
    },
    {
     "name": "stderr",
     "output_type": "stream",
     "text": [
      "\n",
      "\n",
      "====== WebDriver manager ======\n"
     ]
    },
    {
     "name": "stdout",
     "output_type": "stream",
     "text": [
      "SUCCESS - saved https://encrypted-tbn0.gstatic.com/images?q=tbn:ANd9GcSbqNVC1I3aoVPHNEFcTMzlZT6eZlO8WjuLrQ&usqp=CAU - as ./images\\eucalyptus\n",
      "biology\n"
     ]
    },
    {
     "name": "stderr",
     "output_type": "stream",
     "text": [
      "Current google-chrome version is 100.0.4896\n",
      "Get LATEST chromedriver version for 100.0.4896 google-chrome\n",
      "Driver [C:\\Users\\Fabrice HAFASHIMANA\\.wdm\\drivers\\chromedriver\\win32\\100.0.4896.60\\chromedriver.exe] found in cache\n"
     ]
    },
    {
     "name": "stdout",
     "output_type": "stream",
     "text": [
      "Found: 100 search results. Extracting links from 0:100\n",
      "Found: 8 image links, done!\n",
      "SUCCESS - saved https://encrypted-tbn0.gstatic.com/images?q=tbn:ANd9GcSlHwPeREkAixW9WeOrBxS0kTwkKAxtAAnQQw&usqp=CAU - as ./images\\biology\n",
      "SUCCESS - saved https://encrypted-tbn0.gstatic.com/images?q=tbn:ANd9GcRCoPmchJYSdCOwrHvxlNuc6JWzGHGiZW5vog&usqp=CAU - as ./images\\biology\n",
      "SUCCESS - saved https://encrypted-tbn0.gstatic.com/images?q=tbn:ANd9GcQtWBlmsCACxZ3gQQrWXu6Nu0sf7QmkbvxZPg&usqp=CAU - as ./images\\biology\n",
      "SUCCESS - saved https://encrypted-tbn0.gstatic.com/images?q=tbn:ANd9GcRON1tHeiqdOQGyVQP1Oa-PjB0aJhLyyaJ_IA&usqp=CAU - as ./images\\biology\n",
      "SUCCESS - saved https://encrypted-tbn0.gstatic.com/images?q=tbn:ANd9GcRtVwlxDpLAR26l9KUomHgPtwsNadLOtHtY5w&usqp=CAU - as ./images\\biology\n",
      "SUCCESS - saved https://encrypted-tbn0.gstatic.com/images?q=tbn:ANd9GcQxjA56t6JTXw8UrstuoeiLLqC3s_v0arB6EA&usqp=CAU - as ./images\\biology\n",
      "SUCCESS - saved https://encrypted-tbn0.gstatic.com/images?q=tbn:ANd9GcRANqdlygHS16V3iI_qXNMUC_OwN2Cp8OUM-A&usqp=CAU - as ./images\\biology\n",
      "SUCCESS - saved https://encrypted-tbn0.gstatic.com/images?q=tbn:ANd9GcR0BpSqe05CUXTEfWIWCwKvK5BYf6yS09Anqg&usqp=CAU - as ./images\\biology\n"
     ]
    }
   ],
   "source": [
    "import os\n",
    "import time\n",
    "import requests\n",
    "from selenium import webdriver\n",
    "import csv\n",
    "import io\n",
    "from PIL import Image\n",
    "from webdriver_manager.chrome import ChromeDriverManager\n",
    "from pathlib import Path\n",
    "\n",
    "\n",
    "BASE_DIR =  Path(\".\").resolve()\n",
    "def fetch_image_urls(query: str, max_links_to_fetch: int, wd: webdriver, sleep_between_interactions: int = 1):\n",
    "    def scroll_to_end(wd):\n",
    "        wd.execute_script(\"window.scrollTo(0, document.body.scrollHeight);\")\n",
    "        time.sleep(sleep_between_interactions)\n",
    "\n",
    "        # build the google query\n",
    "\n",
    "    search_url = \"https://www.google.com/search?safe=off&site=&tbm=isch&source=hp&q={q}&oq={q}&gs_l=img\"\n",
    "\n",
    "    # https://www.google.com/search?safe=off&site=&tbm=isch&source=hp&q=dog&oq=dog&gs_l=img\n",
    "    # load the page\n",
    "    wd.get(search_url.format(q=query))\n",
    "\n",
    "    image_urls = set()\n",
    "    image_count = 0\n",
    "    results_start = 0\n",
    "    while image_count < max_links_to_fetch:\n",
    "        scroll_to_end(wd)\n",
    "\n",
    "        # get all image thumbnail results\n",
    "        thumbnail_results = wd.find_elements_by_css_selector(\"img.Q4LuWd\")\n",
    "        number_results = len(thumbnail_results)\n",
    "\n",
    "\n",
    "        print(f\"Found: {number_results} search results. Extracting links from {results_start}:{number_results}\")\n",
    "\n",
    "        for img in thumbnail_results[results_start:number_results]:\n",
    "            # try to click every thumbnail such that we can get the real image behind it\n",
    "            try:\n",
    "                img.click()\n",
    "                time.sleep(sleep_between_interactions)\n",
    "            except Exception:\n",
    "                continue\n",
    "\n",
    "            # extract image urls\n",
    "            actual_images = wd.find_elements_by_css_selector('img.n3VNCb')\n",
    "            for actual_image in actual_images:\n",
    "                if actual_image.get_attribute('src') and 'http' in actual_image.get_attribute('src'):\n",
    "                    image_urls.add(actual_image.get_attribute('src'))\n",
    "\n",
    "            image_count = len(image_urls)\n",
    "\n",
    "            if len(image_urls) >= max_links_to_fetch:\n",
    "                print(f\"Found: {len(image_urls)} image links, done!\")\n",
    "                break\n",
    "        else:\n",
    "            print(\"Found:\", len(image_urls), \"image links, looking for more ...\")\n",
    "            time.sleep(30)\n",
    "            return\n",
    "            load_more_button = wd.find_element_by_css_selector(\".mye4qd\")\n",
    "            if load_more_button:\n",
    "                wd.execute_script(\"document.querySelector('.mye4qd').click();\")\n",
    "\n",
    "        # move the result startpoint further down\n",
    "        results_start = len(thumbnail_results)\n",
    "\n",
    "    return image_urls\n",
    "\n",
    "\n",
    "def persist_image(folder_path:str,url:str, counter, term=None):\n",
    "    try:\n",
    "        image_content = requests.get(url).content\n",
    "\n",
    "    except Exception as e:\n",
    "        print(f\"ERROR - Could not download {url} - {e}\")\n",
    "\n",
    "    try:\n",
    "        image_file = io.BytesIO(image_content)\n",
    "        image = Image.open(image_file).convert(\"RGB\")\n",
    "        file_path = os.path.join(folder_path, 'jpg' + \"_\" + str(counter) + \".jpg\")\n",
    "        with open(file_path, 'wb') as f:\n",
    "            image.save(f, \"JPEG\", quality=95)\n",
    "        \n",
    "        \n",
    "        print(f\"SUCCESS - saved {url} - as {folder_path}\")\n",
    "        try:\n",
    "            if term is not None:\n",
    "                with open(os.path.join(folder_path + \" links.txt\"), \"a\") as fl:\n",
    "                    fl.write(\"{} retrived from {}\".format(term, url))\n",
    "                    fl.write(\"\\n\")\n",
    "                    \n",
    "        except Exception:\n",
    "            print(\"Error writting link\")\n",
    "    except Exception as e:\n",
    "        print(f\"ERROR - Could not save {url} - {e}\")\n",
    "\n",
    "\n",
    "def search_and_download(search_term: str, target_path='./images', number_images=10):\n",
    "    target_folder = os.path.join(target_path,'_'.join(search_term.lower().split(' ')))\n",
    "\n",
    "    if not os.path.exists(target_folder):\n",
    "        os.makedirs(target_folder)\n",
    "\n",
    "    with webdriver.Chrome(ChromeDriverManager().install()) as wd:\n",
    "        res = fetch_image_urls(search_term, number_images, wd=wd, sleep_between_interactions=0.5)\n",
    "\n",
    "    counter = 0\n",
    "    try:\n",
    "        for elem in res:\n",
    "            persist_image(target_folder, elem, counter, term=search_term)\n",
    "            counter += 1\n",
    "    except Exception:\n",
    "        pass\n",
    "\n",
    "# num of images you can pass it from here  by default it's 10 if you are not passing\n",
    "\n",
    "csv_file = os.path.join(os.getcwd(), \"species.csv\")\n",
    "with open(csv_file) as cv:\n",
    "    csv_reader = list(csv.DictReader(cv))\n",
    "    for row in csv_reader:\n",
    "        name = row[\"ï»¿name\"]\n",
    "        print(name)\n",
    "        number_images = 7\n",
    "        search_and_download(search_term=name, number_images = number_images)\n",
    "\n",
    "# number_images = 5\n",
    "# for t in search_terms:\n",
    "#     search_and_download(search_term=t, driver_path=DRIVER_PATH, number_images = number_images)"
   ]
  },
  {
   "cell_type": "code",
   "execution_count": null,
   "id": "3d9d2996",
   "metadata": {},
   "outputs": [],
   "source": []
  }
 ],
 "metadata": {
  "kernelspec": {
   "display_name": "Python 3 (ipykernel)",
   "language": "python",
   "name": "python3"
  },
  "language_info": {
   "codemirror_mode": {
    "name": "ipython",
    "version": 3
   },
   "file_extension": ".py",
   "mimetype": "text/x-python",
   "name": "python",
   "nbconvert_exporter": "python",
   "pygments_lexer": "ipython3",
   "version": "3.10.3"
  }
 },
 "nbformat": 4,
 "nbformat_minor": 5
}
